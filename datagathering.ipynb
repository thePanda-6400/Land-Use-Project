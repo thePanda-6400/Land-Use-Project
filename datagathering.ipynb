{
 "cells": [
  {
   "cell_type": "code",
   "execution_count": null,
   "metadata": {},
   "outputs": [],
   "source": [
    "# Standard imports\n",
    "import os\n",
    "from tqdm.notebook import tqdm\n",
    "import requests\n",
    "import json\n",
    "\n",
    "import pandas as pd\n",
    "import numpy as np\n",
    "from PIL import Image\n",
    "\n",
    "# Geospatial processing packages\n",
    "import geopandas as gpd\n",
    "import geojson\n",
    "\n",
    "import shapely\n",
    "import rasterio as rio\n",
    "from rasterio.plot import show\n",
    "import rasterio.mask\n",
    "from shapely.geometry import box\n",
    "\n",
    "# Mapping and plotting libraries\n",
    "import matplotlib.pyplot as plt\n",
    "import matplotlib.colors as cl\n",
    "import ee\n",
    "import eeconvert as eec\n",
    "import geemap\n",
    "import geemap.eefolium as emap\n",
    "import folium\n",
    "\n",
    "# Deep learning libraries\n",
    "import torch\n",
    "from torchvision import datasets, models, transforms"
   ]
  },
  {
   "cell_type": "code",
   "execution_count": null,
   "metadata": {},
   "outputs": [],
   "source": []
  }
 ],
 "metadata": {
  "language_info": {
   "name": "python"
  }
 },
 "nbformat": 4,
 "nbformat_minor": 2
}
